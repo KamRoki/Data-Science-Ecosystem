{
 "cells": [
  {
   "cell_type": "markdown",
   "id": "ee4291d0-3a4b-4940-b4c2-c8f77bc5d4c0",
   "metadata": {},
   "source": [
    "# Data Science Tools and Ecosystem"
   ]
  },
  {
   "cell_type": "markdown",
   "id": "f637ca5d-b73a-4ee6-b55c-cedbceb766ca",
   "metadata": {},
   "source": [
    "In this notebook, Data Science Tools and Ecosystem are summarized."
   ]
  },
  {
   "cell_type": "markdown",
   "id": "9e2d6617-a0c8-4d55-bdfd-4a0546d67d13",
   "metadata": {},
   "source": [
    "**Objectives:**\n",
    "- List popular languages \n",
    "- List popular tools\n",
    "- List popular packages\n",
    "\n",
    "## Author\n",
    "Kamil"
   ]
  },
  {
   "cell_type": "markdown",
   "id": "0e2c7879-019b-451b-ae04-fa005828ac12",
   "metadata": {},
   "source": [
    "Some of the popular languages that Data Scientists use are:\n",
    "1. Python\n",
    "2. R\n",
    "3. SQL\n",
    "4. MATLAB"
   ]
  },
  {
   "cell_type": "markdown",
   "id": "4e15523e-3dcc-44ac-8e3a-bd8ed0f5ef38",
   "metadata": {},
   "source": [
    "Some of the commonly used libraries used by Data Scientists include:\n",
    "1. Pandas\n",
    "2. NumPy\n",
    "3. Matplotlib\n",
    "4. Scikit-learn\n",
    "5. Tensorflow\n",
    "6. ggplot"
   ]
  },
  {
   "cell_type": "markdown",
   "id": "9962bab4-de2b-4a6e-877b-3fb247465c24",
   "metadata": {},
   "source": [
    "| Data Science Tools |\n",
    "|--------------------|\n",
    "| Jupyter Notebook   |\n",
    "| RStudio            |\n",
    "| VS Code            |"
   ]
  },
  {
   "cell_type": "markdown",
   "id": "5d81b51a-7559-4c6e-bb10-8dec9a671d51",
   "metadata": {},
   "source": [
    "### Below are a few examples of evaluating arithmetic expressions in Python"
   ]
  },
  {
   "cell_type": "code",
   "execution_count": 1,
   "id": "64a292a2-339c-47c1-8967-31bf1200bde4",
   "metadata": {},
   "outputs": [
    {
     "data": {
      "text/plain": [
       "17"
      ]
     },
     "execution_count": 1,
     "metadata": {},
     "output_type": "execute_result"
    }
   ],
   "source": [
    "# This a simple arithmetic expression to multiply then add integers\n",
    "(3*4)+5"
   ]
  },
  {
   "cell_type": "code",
   "execution_count": 2,
   "id": "459f7575-44fc-42cd-8b17-6c2467ea6332",
   "metadata": {},
   "outputs": [
    {
     "data": {
      "text/plain": [
       "3.3333333333333335"
      ]
     },
     "execution_count": 2,
     "metadata": {},
     "output_type": "execute_result"
    }
   ],
   "source": [
    "# This will convert 200 minutes to houra by diving by 60\n",
    "200 / 60"
   ]
  }
 ],
 "metadata": {
  "kernelspec": {
   "display_name": "Python 3 (ipykernel)",
   "language": "python",
   "name": "python3"
  },
  "language_info": {
   "codemirror_mode": {
    "name": "ipython",
    "version": 3
   },
   "file_extension": ".py",
   "mimetype": "text/x-python",
   "name": "python",
   "nbconvert_exporter": "python",
   "pygments_lexer": "ipython3",
   "version": "3.11.7"
  }
 },
 "nbformat": 4,
 "nbformat_minor": 5
}
